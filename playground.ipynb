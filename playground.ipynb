{
 "cells": [
  {
   "cell_type": "code",
   "execution_count": 1,
   "metadata": {},
   "outputs": [],
   "source": [
    "# Attempting simple pitch estimation using dataset 1\n",
    "import xml.etree.ElementTree as et"
   ]
  },
  {
   "cell_type": "code",
   "execution_count": 10,
   "metadata": {},
   "outputs": [],
   "source": [
    "# Obtain XML tree\n",
    "folder = \"IDMT-SMT-Guitar_V2/dataset1/Fender Strat Clean Neck SC/\"\n",
    "file = \"G53-40100-1111-00001\"\n",
    "\n",
    "tree = et.parse(folder + \"annotation/\" + file + \".xml\")"
   ]
  },
  {
   "cell_type": "code",
   "execution_count": 16,
   "metadata": {},
   "outputs": [
    {
     "name": "stdout",
     "output_type": "stream",
     "text": [
      "hello\n",
      "40\n"
     ]
    }
   ],
   "source": [
    "# Obtain pitches from notes\n",
    "root = tree.getroot()\n",
    "\n",
    "out = open(folder + \"pitch/\" + file + \".txt\", 'w')\n",
    "first = True\n",
    "\n",
    "for event in root.iter('event'):\n",
    "    print(\"hello\")\n",
    "    pitch = event.find('pitch').text\n",
    "    \n",
    "    if not pitch:\n",
    "        continue\n",
    "    \n",
    "    print(pitch)\n",
    "    "
   ]
  }
 ],
 "metadata": {
  "kernelspec": {
   "display_name": "venv",
   "language": "python",
   "name": "python3"
  },
  "language_info": {
   "codemirror_mode": {
    "name": "ipython",
    "version": 3
   },
   "file_extension": ".py",
   "mimetype": "text/x-python",
   "name": "python",
   "nbconvert_exporter": "python",
   "pygments_lexer": "ipython3",
   "version": "3.11.6"
  }
 },
 "nbformat": 4,
 "nbformat_minor": 2
}
